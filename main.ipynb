{
 "cells": [
  {
   "cell_type": "code",
   "execution_count": 2,
   "metadata": {},
   "outputs": [],
   "source": [
    "import cv2\n",
    "import folium\n",
    "import numpy as np\n",
    "import pandas as pd\n",
    "from folium.plugins import HeatMap\n",
    "from sklearn.cluster import KMeans\n"
   ]
  },
  {
   "cell_type": "code",
   "execution_count": 3,
   "metadata": {},
   "outputs": [],
   "source": [
    "df = pd.read_csv('raw_data.csv', sep=\";\")"
   ]
  },
  {
   "cell_type": "code",
   "execution_count": 4,
   "metadata": {},
   "outputs": [],
   "source": [
    "df.columns = [\"photo_id\", \"user_internal_id\", \"user_name\", \"lat\", \"longt\", \"date_taken\", \"date_upload\",  \"visit\"]"
   ]
  },
  {
   "cell_type": "code",
   "execution_count": 5,
   "metadata": {},
   "outputs": [],
   "source": [
    "# Converter a coluna date_taken para o tipo datetime\n",
    "df['date_taken'] = pd.to_datetime(df['date_taken'])\n",
    "\n",
    "# Agrupar os dados por user_name e calcular a diferença em dias entre a primeira e a última foto\n",
    "df['first_date_taken'] = df.groupby('user_name')['date_taken'].transform('min')\n",
    "df['last_date_taken'] = df.groupby('user_name')['date_taken'].transform('max')\n",
    "df['days_diff'] = (df['last_date_taken'] - df['first_date_taken']).dt.days\n",
    "\n",
    "# Marcar os usuários como \"Turistas\" ou \"Local\" com base na diferença em dias\n",
    "df['tipo_usuario'] = 'Indefinido'\n",
    "df.loc[df['days_diff'] <= 40, 'tipo_usuario'] = 'Turista'\n",
    "df.loc[df['days_diff'] > 40, 'tipo_usuario'] = 'Local'\n",
    "\n",
    "# Descartar colunas auxiliares adicionadas\n",
    "df.drop(['first_date_taken', 'last_date_taken', 'days_diff'], axis=1, inplace=True)\n",
    "\n",
    "# # Escrever os dados manipulados de volta para o arquivo CSV\n",
    "# df.to_csv('seu_arquivo_manipulado.csv', index=False)\n"
   ]
  },
  {
   "cell_type": "code",
   "execution_count": 10,
   "metadata": {},
   "outputs": [],
   "source": [
    "mapa = folium.Map(location=[-7.144126, -34.857480], zoom_start=12)\n",
    "\n",
    "# Iterar sobre as linhas do DataFrame\n",
    "for index, row in df.iterrows():\n",
    "    # Adicionar um ponto para cada foto no mapa\n",
    "    cor = 'blue' if row['tipo_usuario'] == 'Local' else \"red\"\n",
    "  \n",
    "    folium.Circle(location=[row['lat'], row['longt']], radius=0.00001, fill=True, color=cor).add_to(mapa)\n",
    "\n",
    "\n",
    "coordenadas_turistas = df[df['tipo_usuario'] == 'Turista'][['lat', 'longt']].values.tolist()\n",
    "coordenadas_locais = df[df['tipo_usuario'] == 'Local'][['lat', 'longt']].values.tolist()\n",
    "\n",
    "# Pré-processamento dos dados: Normalização das coordenadas\n",
    "df['lat_norm'] = (df['lat'] - df['lat'].mean()) / df['lat'].std()\n",
    "df['longt_norm'] = (df['longt'] - df['longt'].mean()) / df['longt'].std()\n",
    "\n",
    "kmeans = KMeans(n_clusters=5)  # Definir o número de clusters desejado\n",
    "df['cluster'] = kmeans.fit_predict(df[['lat_norm', 'longt_norm']])\n",
    "\n",
    "for cluster in df['cluster'].unique():\n",
    "    coordenadas = df[df['cluster'] == cluster][['lat', 'longt']].values.tolist()\n",
    "    HeatMap(coordenadas, radius=15).add_to(mapa)\n",
    "\n",
    "# HeatMap(coordenadas_turistas, radius=15).add_to(mapa)\n",
    "# HeatMap(coordenadas_locais, radius=15).add_to(mapa)\n",
    "# Salvar o mapa como um arquivo HTML\n",
    "mapa.save('mapa_fotos.html')"
   ]
  },
  {
   "cell_type": "code",
   "execution_count": 21,
   "metadata": {},
   "outputs": [],
   "source": [
    "# mapa_densidade2\n",
    "from sklearn.cluster import DBSCAN\n"
   ]
  },
  {
   "cell_type": "code",
   "execution_count": 25,
   "metadata": {},
   "outputs": [],
   "source": [
    "import cv2\n",
    "import numpy as np\n",
    "\n",
    "# Carregar a imagem do mapa de calor\n",
    "mapa_imagem = cv2.imread('mapa_densidade2.png')\n",
    "\n",
    "# Converter a imagem para o espaço de cores HSV\n",
    "mapa_hsv = cv2.cvtColor(mapa_imagem, cv2.COLOR_BGR2HSV)\n",
    "\n",
    "# Definir os intervalos de cor para azul e vermelho no espaço HSV\n",
    "intervalo_azul = [(100, 150, 50), (140, 255, 255)]  # Azul (H: 100-140)\n",
    "intervalo_vermelho1 = [(0, 50, 50), (10, 255, 255)]  # Vermelho (H: 0-10)\n",
    "intervalo_vermelho2 = [(170, 50, 50), (180, 255, 255)]  # Vermelho (H: 170-180)\n",
    "\n",
    "# Criar máscaras para os pontos azuis e vermelhos\n",
    "mascara_azul = cv2.inRange(mapa_hsv, *intervalo_azul)\n",
    "mascara_vermelho1 = cv2.inRange(mapa_hsv, *intervalo_vermelho1)\n",
    "mascara_vermelho2 = cv2.inRange(mapa_hsv, *intervalo_vermelho2)\n",
    "mascara_vermelho = cv2.bitwise_or(mascara_vermelho1, mascara_vermelho2)\n",
    "\n",
    "# Identificar os contornos das áreas azuis e vermelhas\n",
    "contornos_azul, _ = cv2.findContours(mascara_azul, cv2.RETR_EXTERNAL, cv2.CHAIN_APPROX_SIMPLE)\n",
    "contornos_vermelho, _ = cv2.findContours(mascara_vermelho, cv2.RETR_EXTERNAL, cv2.CHAIN_APPROX_SIMPLE)\n",
    "\n",
    "# Desenhar os contornos na imagem original\n",
    "cv2.drawContours(mapa_imagem, contornos_azul, -1, (255, 0, 0), 2)  # Azul\n",
    "cv2.drawContours(mapa_imagem, contornos_vermelho, -1, (0, 0, 255), 2)  # Vermelho\n",
    "\n",
    "# Mostrar a imagem com os contornos identificados\n",
    "cv2.imshow('Contornos Identificados', mapa_imagem)\n",
    "cv2.waitKey(0)\n",
    "cv2.destroyAllWindows()\n"
   ]
  },
  {
   "cell_type": "code",
   "execution_count": 33,
   "metadata": {},
   "outputs": [],
   "source": [
    "import cv2\n",
    "import numpy as np\n",
    "\n",
    "# Carregar a imagem do mapa de calor\n",
    "mapa_imagem = cv2.imread('mapa_densidade2.png')\n",
    "\n",
    "# Converter a imagem para o espaço de cores HSV (Matiz, Saturação, Valor)\n",
    "mapa_hsv = cv2.cvtColor(mapa_imagem, cv2.COLOR_BGR2HSV)\n",
    "\n",
    "# Definir intervalos de cores para os pontos vermelhos e azuis (no espaço de cores HSV)\n",
    "intervalo_vermelho_baixo = np.array([0, 100, 100])\n",
    "intervalo_vermelho_alto = np.array([10, 255, 255])\n",
    "intervalo_azul_baixo = np.array([110, 100, 100])\n",
    "intervalo_azul_alto = np.array([130, 255, 255])\n",
    "\n",
    "# Segmentar a imagem para encontrar áreas vermelhas e azuis\n",
    "mascara_vermelha = cv2.inRange(mapa_hsv, intervalo_vermelho_baixo, intervalo_vermelho_alto)\n",
    "mascara_azul = cv2.inRange(mapa_hsv, intervalo_azul_baixo, intervalo_azul_alto)\n",
    "\n",
    "# Combinação das máscaras para pontos vermelhos e azuis\n",
    "mascara_combinada = cv2.bitwise_or(mascara_vermelha, mascara_azul)\n",
    "\n",
    "# Encontrar os contornos das áreas identificadas\n",
    "contornos, _ = cv2.findContours(mascara_combinada, cv2.RETR_EXTERNAL, cv2.CHAIN_APPROX_SIMPLE)\n",
    "\n",
    "# Desenhar os contornos na imagem original\n",
    "cv2.drawContours(mapa_imagem, contornos, -1, (0, 255, 0), 2)\n",
    "\n",
    "# Mostrar a imagem com os contornos identificados\n",
    "cv2.imshow('Regiões Populosas', mapa_imagem)\n",
    "cv2.waitKey(0)\n",
    "cv2.destroyAllWindows()\n"
   ]
  },
  {
   "cell_type": "code",
   "execution_count": 39,
   "metadata": {},
   "outputs": [],
   "source": [
    "import cv2\n",
    "import numpy as np\n",
    "\n",
    "# Carregar a imagem do mapa de calor\n",
    "mapa_imagem = cv2.imread('mapa_densidade2.png')\n",
    "\n",
    "# Converter a imagem para escala de cinza\n",
    "mapa_cinza = cv2.cvtColor(mapa_imagem, cv2.COLOR_BGR2GRAY)\n",
    "\n",
    "# Aplicar um filtro de suavização para reduzir o ruído\n",
    "mapa_suave = cv2.GaussianBlur(mapa_cinza, (5, 5), 0)\n",
    "\n",
    "# Aplicar uma transformação de limiarização para identificar áreas densas de pontos\n",
    "_, mapa_limiarizado = cv2.threshold(mapa_suave, 50, 255, cv2.THRESH_BINARY)\n",
    "\n",
    "# Encontrar os contornos das áreas densas identificadas\n",
    "contornos, _ = cv2.findContours(mapa_limiarizado, cv2.RETR_EXTERNAL, cv2.CHAIN_APPROX_SIMPLE)\n",
    "\n",
    "# Desenhar os contornos na imagem original\n",
    "cv2.drawContours(mapa_imagem, contornos, -1, (0, 255, 0), 2)\n",
    "\n",
    "# Mostrar a imagem com os contornos identificados\n",
    "cv2.imshow('Regiões Populosas', mapa_imagem)\n",
    "cv2.waitKey(0)\n",
    "cv2.destroyAllWindows()\n"
   ]
  },
  {
   "cell_type": "code",
   "execution_count": 45,
   "metadata": {},
   "outputs": [
    {
     "ename": "error",
     "evalue": "OpenCV(4.9.0) :-1: error: (-5:Bad argument) in function 'findContours'\n> Overload resolution failed:\n>  - image is not a numerical tuple\n>  - Expected Ptr<cv::UMat> for argument 'image'\n",
     "output_type": "error",
     "traceback": [
      "\u001b[1;31m---------------------------------------------------------------------------\u001b[0m",
      "\u001b[1;31merror\u001b[0m                                     Traceback (most recent call last)",
      "Cell \u001b[1;32mIn[45], line 19\u001b[0m\n\u001b[0;32m     16\u001b[0m mapa_limiarizado \u001b[38;5;241m=\u001b[39m cv2\u001b[38;5;241m.\u001b[39mthreshold(mapa_suave, \u001b[38;5;241m50\u001b[39m, \u001b[38;5;241m255\u001b[39m, cv2\u001b[38;5;241m.\u001b[39mTHRESH_BINARY)\n\u001b[0;32m     18\u001b[0m \u001b[38;5;66;03m# Encontrar os contornos das áreas densas identificadas\u001b[39;00m\n\u001b[1;32m---> 19\u001b[0m contornos, _ \u001b[38;5;241m=\u001b[39m \u001b[43mcv2\u001b[49m\u001b[38;5;241;43m.\u001b[39;49m\u001b[43mfindContours\u001b[49m\u001b[43m(\u001b[49m\u001b[43mmapa_limiarizado\u001b[49m\u001b[43m,\u001b[49m\u001b[43m \u001b[49m\u001b[43mcv2\u001b[49m\u001b[38;5;241;43m.\u001b[39;49m\u001b[43mRETR_EXTERNAL\u001b[49m\u001b[43m,\u001b[49m\u001b[43m \u001b[49m\u001b[43mcv2\u001b[49m\u001b[38;5;241;43m.\u001b[39;49m\u001b[43mCHAIN_APPROX_SIMPLE\u001b[49m\u001b[43m)\u001b[49m\n\u001b[0;32m     21\u001b[0m \u001b[38;5;66;03m# Desenhar os contornos na imagem original\u001b[39;00m\n\u001b[0;32m     22\u001b[0m cv2\u001b[38;5;241m.\u001b[39mdrawContours(mapa_imagem, contornos, \u001b[38;5;241m-\u001b[39m\u001b[38;5;241m1\u001b[39m, (\u001b[38;5;241m0\u001b[39m, \u001b[38;5;241m255\u001b[39m, \u001b[38;5;241m0\u001b[39m), \u001b[38;5;241m2\u001b[39m)\n",
      "\u001b[1;31merror\u001b[0m: OpenCV(4.9.0) :-1: error: (-5:Bad argument) in function 'findContours'\n> Overload resolution failed:\n>  - image is not a numerical tuple\n>  - Expected Ptr<cv::UMat> for argument 'image'\n"
     ]
    },
    {
     "ename": "",
     "evalue": "",
     "output_type": "error",
     "traceback": [
      "\u001b[1;31mThe Kernel crashed while executing code in the current cell or a previous cell. \n",
      "\u001b[1;31mPlease review the code in the cell(s) to identify a possible cause of the failure. \n",
      "\u001b[1;31mClick <a href='https://aka.ms/vscodeJupyterKernelCrash'>here</a> for more info. \n",
      "\u001b[1;31mView Jupyter <a href='command:jupyter.viewOutput'>log</a> for further details."
     ]
    }
   ],
   "source": [
    "import cv2\n",
    "import numpy as np\n",
    "\n",
    "# Carregar a imagem do mapa de calor\n",
    "mapa_imagem = cv2.imread('mapa_densidade2.png')\n",
    "\n",
    "# Converter a imagem para escala de cinza\n",
    "mapa_cinza = cv2.cvtColor(mapa_imagem, cv2.COLOR_BGR2GRAY)\n",
    "\n",
    "# Aplicar um filtro de suavização para reduzir o ruído\n",
    "mapa_suave = cv2.GaussianBlur(mapa_cinza, (5, 5), 0)\n",
    "\n",
    "cv2.imshow(\"A\", mapa_suave)\n",
    "\n",
    "# Aplicar uma transformação de limiarização para identificar áreas densas de pontos\n",
    "mapa_limiarizado = cv2.threshold(mapa_suave, 50, 255, cv2.THRESH_BINARY)\n",
    "\n",
    "# Encontrar os contornos das áreas densas identificadas\n",
    "contornos, _ = cv2.findContours(mapa_limiarizado, cv2.RETR_EXTERNAL, cv2.CHAIN_APPROX_SIMPLE)\n",
    "\n",
    "# Desenhar os contornos na imagem original\n",
    "cv2.drawContours(mapa_imagem, contornos, -1, (0, 255, 0), 2)\n",
    "\n",
    "# Mostrar a imagem com os contornos identificados\n",
    "cv2.imshow('Regiões Populosas', mapa_imagem)\n",
    "cv2.waitKey(0)\n",
    "cv2.destroyAllWindows()"
   ]
  }
 ],
 "metadata": {
  "kernelspec": {
   "display_name": "Python 3",
   "language": "python",
   "name": "python3"
  },
  "language_info": {
   "codemirror_mode": {
    "name": "ipython",
    "version": 3
   },
   "file_extension": ".py",
   "mimetype": "text/x-python",
   "name": "python",
   "nbconvert_exporter": "python",
   "pygments_lexer": "ipython3",
   "version": "3.10.10"
  }
 },
 "nbformat": 4,
 "nbformat_minor": 2
}
