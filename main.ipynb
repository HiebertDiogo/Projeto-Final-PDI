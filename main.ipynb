{
 "cells": [
  {
   "cell_type": "code",
   "execution_count": 76,
   "metadata": {},
   "outputs": [],
   "source": [
    "import folium\n",
    "import pandas as pd\n",
    "from folium.plugins import HeatMap"
   ]
  },
  {
   "cell_type": "code",
   "execution_count": 77,
   "metadata": {},
   "outputs": [],
   "source": [
    "df = pd.read_csv('raw_data.csv', sep=\";\")"
   ]
  },
  {
   "cell_type": "code",
   "execution_count": 78,
   "metadata": {},
   "outputs": [],
   "source": [
    "df.columns = [\"photo_id\", \"user_internal_id\", \"user_name\", \"lat\", \"longt\", \"date_taken\", \"date_upload\",  \"visit\"]"
   ]
  },
  {
   "cell_type": "code",
   "execution_count": 79,
   "metadata": {},
   "outputs": [],
   "source": [
    "# Converter a coluna date_taken para o tipo datetime\n",
    "df['date_taken'] = pd.to_datetime(df['date_taken'])\n",
    "\n",
    "# Agrupar os dados por user_name e calcular a diferença em dias entre a primeira e a última foto\n",
    "df['first_date_taken'] = df.groupby('user_name')['date_taken'].transform('min')\n",
    "df['last_date_taken'] = df.groupby('user_name')['date_taken'].transform('max')\n",
    "df['days_diff'] = (df['last_date_taken'] - df['first_date_taken']).dt.days\n",
    "\n",
    "# Marcar os usuários como \"Turistas\" ou \"Local\" com base na diferença em dias\n",
    "df['tipo_usuario'] = 'Indefinido'\n",
    "df.loc[df['days_diff'] <= 40, 'tipo_usuario'] = 'Turista'\n",
    "df.loc[df['days_diff'] > 40, 'tipo_usuario'] = 'Local'\n",
    "\n",
    "# Descartar colunas auxiliares adicionadas\n",
    "df.drop(['first_date_taken', 'last_date_taken', 'days_diff'], axis=1, inplace=True)\n",
    "\n",
    "# # Escrever os dados manipulados de volta para o arquivo CSV\n",
    "# df.to_csv('seu_arquivo_manipulado.csv', index=False)\n"
   ]
  },
  {
   "cell_type": "code",
   "execution_count": 81,
   "metadata": {},
   "outputs": [],
   "source": [
    "mapa = folium.Map(location=[-7.144126, -34.857480], zoom_start=12)\n",
    "\n",
    "# Iterar sobre as linhas do DataFrame\n",
    "for index, row in df.iterrows():\n",
    "    # Adicionar um ponto para cada foto no mapa\n",
    "    cor = 'blue' if row['tipo_usuario'] == 'Local' else \"red\"\n",
    "  \n",
    "    folium.Circle(location=[row['lat'], row['longt']], radius=0.00001, fill=True, color=cor).add_to(mapa)\n",
    "\n",
    "\n",
    "coordenadas_turistas = df[df['tipo_usuario'] == 'Turista'][['lat', 'longt']].values.tolist()\n",
    "coordenadas_locais = df[df['tipo_usuario'] == 'Local'][['lat', 'longt']].values.tolist()\n",
    "\n",
    "# Adicionar camadas de densidade de pontos para turistas e locais\n",
    "heatmap_turistas = HeatMap(coordenadas_turistas, radius=15).add_to(mapa)\n",
    "heatmap_locais = HeatMap(coordenadas_locais, radius=15).add_to(mapa)\n",
    "\n",
    "# Salvar o mapa como um arquivo HTML\n",
    "mapa.save('mapa_fotos.html')"
   ]
  }
 ],
 "metadata": {
  "kernelspec": {
   "display_name": "Python 3",
   "language": "python",
   "name": "python3"
  },
  "language_info": {
   "codemirror_mode": {
    "name": "ipython",
    "version": 3
   },
   "file_extension": ".py",
   "mimetype": "text/x-python",
   "name": "python",
   "nbconvert_exporter": "python",
   "pygments_lexer": "ipython3",
   "version": "3.10.10"
  }
 },
 "nbformat": 4,
 "nbformat_minor": 2
}
