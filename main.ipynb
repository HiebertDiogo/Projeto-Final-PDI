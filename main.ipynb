{
 "cells": [
  {
   "cell_type": "code",
   "execution_count": null,
   "metadata": {},
   "outputs": [],
   "source": [
    "import folium\n",
    "mapa = folium.Map(location=[latitude, longitude], zoom_start=12)\n",
    "\n",
    "for foto in fotos:\n",
    "    folium.Marker([foto['latitude'], foto['longitude']], popup=foto['titulo']).add_to(mapa)\n",
    "\n",
    "mapa.save('mapa_fotos.html')"
   ]
  }
 ],
 "metadata": {
  "language_info": {
   "name": "python"
  }
 },
 "nbformat": 4,
 "nbformat_minor": 2
}
